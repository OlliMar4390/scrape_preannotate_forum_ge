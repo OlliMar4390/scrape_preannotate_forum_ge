{
 "cells": [
  {
   "cell_type": "code",
   "execution_count": 1,
   "metadata": {},
   "outputs": [],
   "source": [
    "from bs4 import BeautifulSoup\n",
    "import bs4\n",
    "import re"
   ]
  },
  {
   "cell_type": "markdown",
   "metadata": {},
   "source": [
    "# Zeilenumbrüche anhand HTML-Datei"
   ]
  },
  {
   "cell_type": "code",
   "execution_count": 10,
   "metadata": {
    "scrolled": false
   },
   "outputs": [
    {
     "name": "stdout",
     "output_type": "stream",
     "text": [
      "True\n",
      "42 52 28\n",
      "\n",
      "@ lulipot\n",
      "Jo! Lass mal deinen Cystatin C Wert bestimmen (geht beim Hausarzt per Blutuntersuchung). Der Cystatin C Wert ist ein Frühmarker für Nierenfunktionseinschränkungen.\n",
      "\n",
      "Bei mir ist der Cystatin C Wert z. B. völlig ok; der (bzgl. der Nierenfunktion ungenaue) eGFR-Wert liegt bei mir unter 60 ml/min.  Der EGFR-Wert ist aber sehr ungenau und eine leichte Erhöhung des Kreatininwertes (der bei mir zB ständig etwas erhöht ist) muss nicht zwangsläufig eine eingeschränkte Nierenfunktion bedeuten  - man sollte bei solchen Auffälligkeiten aber den Cystatin C Wert bestimmen lassen bzw. ggf. einen Nephrologen aufsuchen, um das weiter abzuklären.\n",
      "Hier Infos zu Tolvaptan:\n",
      "https://www.aerzteblatt.de/nac…-Sicherheit-von-Tolvaptan\n",
      "\n",
      "\n",
      "\n",
      "\n",
      "\r\n",
      "\t\t\t\t\t\t\t\t\tZitat\r\n",
      "\t\t\t\t\t\t\t\n",
      "\n",
      "\n",
      "\n",
      "\n",
      "\n",
      "Wenn ich dort Deine Werte eingebe, ergibt sich (nach CKD-EPI-Formel) eine eGFR von 67 ml/min, das entspricht lediglich einer \"milden Nierenfunktionseinschränkung\".\n",
      "\n",
      "musicus_65\n",
      "\n",
      "Die Einteilung, wonach hier eine \"milde Nierenfunktionseinschränkung\" rauskommt nach dem eGFR-Wert gilt nur für Patienten, die bereits eine diagnostizierte Nierenerkrankung haben. Daneben ist der eGFR-Wert wie gesagt sehr ungenau zur Bestimmung der tatsächlichen Nierenleistung.\n",
      "Quelle http://www.medlabor-wm.de/inde…m_content&do_pdf=1&id=205Ich habe beschrieben, wie es MIR geht und was ich geschrieben habe, entspricht den Tatsachen.\n",
      "\n",
      "Worin liegt der Sinn, meine Erfahrung mit \"man\" und \"üblicherweise\" zu vergleichen (abzuwerten)? Abgesehen davon lag meine GFR auch schon unter 30, was – gemäss Bericht des konsultierten Nephrologen – einer schwer eingeschränkten Nierenfunktion entspricht. Ich dümple also zwischen schwerer und mittelgradiger Insuffizienz herum. Selbstverständlich gibt es Krankheitsfälle, die wenig oder keine Einschränkungen haben, \n",
      "\n",
      "Spoiler anzeigen\n",
      "\n",
      "\r\n",
      "\t\toder die ihre Symptome negieren\r\n",
      "\t\n",
      " aber es gibt eben auch viele , denen es im genannten Stadium gar nicht gut geht.\n",
      "\n",
      "Es erschliesst sich mir nicht, warum ich alternative Ursachen für meine Beschwerden abklären lassen soll. Eine (1) plausible Diagnose ist genug.\n",
      "\n"
     ]
    }
   ],
   "source": [
    "#htmltext = \"<div><p>bla <img> bla<p></div>\"\n",
    "htmltext = \"<div class=\\\"messageText\\\" itemprop=\\\"text\\\">\\r\\n\\t\\t\\t\\t\\t\\t\\t\\r\\n\\t\\t\\t\\t\\t\\t\\t\\n<h2>@ lulipot</h2>\\n<p><span>Jo!</span> Lass mal deinen Cystatin C Wert bestimmen (geht beim Hausarzt per Blutuntersuchung). Der Cystatin C Wert ist ein Frühmarker für Nierenfunktionseinschränkungen.</p>\\n<p><br></p>\\n<p>Bei mir ist der Cystatin C Wert z. B. völlig ok; der (bzgl. der Nierenfunktion ungenaue) eGFR-Wert liegt bei mir unter 60 ml/min. <img height=\\\"33\\\" class=\\\"smiley\\\" alt='\\\":/' src=\\\"https://www.med1.de/images/smilies/s41.gif\\\" title=\\\"\\\"> Der EGFR-Wert ist aber sehr ungenau und eine leichte Erhöhung des Kreatininwertes (der bei mir zB ständig etwas erhöht ist) muss nicht zwangsläufig eine eingeschränkte Nierenfunktion bedeuten <img height=\\\"33\\\" class=\\\"smiley\\\" alt='\\\":§' src=\\\"https://www.med1.de/images/smilies/s99.gif\\\" title=\\\"\\\"> - man sollte bei solchen Auffälligkeiten aber den Cystatin C Wert bestimmen lassen bzw. ggf. einen Nephrologen aufsuchen, um das weiter abzuklären.</p>\\n<p>Hier Infos zu Tolvaptan:<br></p>\\n<p><a href=\\\"https://www.aerzteblatt.de/nachrichten/83279/Zystennieren-Studie-bestaetigt-Effektivitaet-und-Sicherheit-von-Tolvaptan\\\" class=\\\"externalURL\\\" target=\\\"_blank\\\" rel=\\\"nofollow noopener noreferrer\\\">https://www.aerzteblatt.de/nac…-Sicherheit-von-Tolvaptan</a></p>\\n<p><br></p>\\n<blockquote class=\\\"quoteBox collapsibleBbcode jsCollapsibleBbcode quoteBoxSimple\\\">\\r\\n\\t<div class=\\\"quote-box-header\\\">\\r\\n\\t\\t<div class=\\\"quoteBoxTitle\\\">\\r\\n\\t\\t\\t<span class=\\\"quoteBoxTitle\\\">\\r\\n\\t\\t\\t\\t\\t\\t\\t\\t\\tZitat\\r\\n\\t\\t\\t\\t\\t\\t\\t</span>\\r\\n\\t\\t</div>\\r\\n\\r\\n\\t\\t<div class=\\\"quoteBoxIcon\\\">\\r\\n\\t\\t\\t\\t\\t</div>\\r\\n\\t</div>\\r\\n\\t\\r\\n\\t<div class=\\\"quoteBoxContent\\\">\\r\\n\\t\\t<p>Wenn ich dort Deine Werte eingebe, ergibt sich (nach CKD-EPI-Formel) eine eGFR von 67 ml/min, das entspricht lediglich einer \\\"milden Nierenfunktionseinschränkung\\\".</p>\\n<p><br></p>\\n<p>musicus_65</p>\\r\\n\\t</div>\\r\\n\\t\\r\\n\\t</blockquote><p>Die Einteilung, wonach hier eine \\\"milde Nierenfunktionseinschränkung\\\" rauskommt nach dem eGFR-Wert gilt nur für Patienten, die bereits eine diagnostizierte Nierenerkrankung haben. Daneben ist der eGFR-Wert wie gesagt sehr ungenau zur Bestimmung der tatsächlichen Nierenleistung.</p>\\n<p>Quelle <a href=\\\"http://www.medlabor-wm.de/index2.php?option=com_content&amp;do_pdf=1&amp;id=205\\\" class=\\\"externalURL\\\" target=\\\"_blank\\\" rel=\\\"nofollow noopener noreferrer\\\">http://www.medlabor-wm.de/inde…m_content&amp;do_pdf=1&amp;id=205</a></p><p>Ich habe beschrieben, wie es MIR geht und was ich geschrieben habe, entspricht den Tatsachen.</p>\\n<p><br></p>\\n<p>Worin liegt der Sinn, meine Erfahrung mit \\\"man\\\" und \\\"üblicherweise\\\" zu vergleichen (abzuwerten)? Abgesehen davon lag meine GFR auch schon unter 30, was – gemäss Bericht des konsultierten Nephrologen – einer schwer eingeschränkten Nierenfunktion entspricht. Ich dümple also zwischen schwerer und mittelgradiger Insuffizienz herum. Selbstverständlich gibt es Krankheitsfälle, die wenig oder keine Einschränkungen haben, </p><div class=\\\"spoilerBox jsSpoilerBox\\\">\\r\\n\\t<div class=\\\"jsOnly spoilerBoxHeader\\\">\\r\\n\\t\\t<a class=\\\"button small jsSpoilerToggle\\\">Spoiler anzeigen</a>\\r\\n\\t</div>\\r\\n\\t\\r\\n\\t<div class=\\\"spoilerBoxContent\\\" style=\\\"display: none\\\">\\r\\n\\t\\toder die ihre Symptome negieren\\r\\n\\t</div>\\r\\n\\t\\r\\n\\t\\t\\t\\t\\t</div> aber es gibt eben auch viele <img alt=':(' title=bla>, denen es im genannten Stadium gar nicht gut geht.\\n<p><br></p>\\n<p>Es erschliesst sich mir nicht, warum ich alternative Ursachen für meine Beschwerden abklären lassen soll. Eine (1) plausible Diagnose ist genug.</p>\\n\\t\\t\\t\\t\\t\\t</div>\"\n",
    "soup = BeautifulSoup(htmltext)\n",
    "text_merged = \"\"\n",
    "NoneType = type(None)\n",
    "for elem in soup.find(\"div\").next_elements:\n",
    "    if (elem.name is None and elem.string.strip() != \"\") or elem.name == \"img\":\n",
    "        if elem.name == \"img\":\n",
    "            t = elem[\"alt\"]\n",
    "        else:\n",
    "            t = elem\n",
    "        text_merged += \" \" + t.strip()\n",
    "    elif elem.name is None and not elem.string.strip():\n",
    "        continue\n",
    "    if elem.name in [\"div\",\"h2\",\"p\"] and text_merged != \"\" and elem.get_text().strip() != \"\":\n",
    "        text_merged += \"\\n\"\n",
    "    if not isinstance(elem, NoneType) and not isinstance(elem, str):\n",
    "        pass # print(\"|||\",len(elem), elem.name,[e for e in elem])\n",
    "        #if \"class\" in elem.keys:\n",
    "        #    print(\"|||||<\",elem.name)\n",
    "    #print(\" \"*len([e for e in elem.parent.parents])+elem.parent.name)\n",
    "    #if elem.name is not None:\n",
    "    #    print(\" \"*len([e for e in elem.parents])+elem.name)\n",
    "    #if elem.name is None:\n",
    "    #    print(\" \"*len([e for e in elem.parents])+\"string\")\n",
    "    #print(\"______next_element________\")\n",
    "    #if elem.name is not None:\n",
    "    #    print(elem)\n",
    "\n",
    "#print(\"|\"+text_merged)\n",
    "#print(\"\".join(soup.strings))\n",
    "print(\"\".join(elem.get_text() for elem in soup) == \"\".join(soup.strings))\n",
    "print(len([e.get_text() for e in soup.descendants if not isinstance(e, str)]), len([e for e in soup.strings],),\n",
    "     len([e.get_text() for e in soup.descendants if not isinstance(e, str) and e.get_text() != \"\"]))\n",
    "#print([elem.get_text() for elem in soup.descendants if not isinstance(elem, str)])\n",
    "print(\"\".join(elem.string for elem in soup.descendants if isinstance(elem, str)))"
   ]
  },
  {
   "cell_type": "code",
   "execution_count": 11,
   "metadata": {},
   "outputs": [
    {
     "name": "stdout",
     "output_type": "stream",
     "text": [
      "\n",
      "@ lulipot\n",
      "Jo! Lass mal deinen Cystatin C Wert bestimmen (geht beim Hausarzt per Blutuntersuchung). Der Cystatin C Wert ist ein Frühmarker für Nierenfunktionseinschränkungen.\n",
      "\n",
      "Bei mir ist der Cystatin C Wert z. B. völlig ok; der (bzgl. der Nierenfunktion ungenaue) eGFR-Wert liegt bei mir unter 60 ml/min. \":/ Der EGFR-Wert ist aber sehr ungenau und eine leichte Erhöhung des Kreatininwertes (der bei mir zB ständig etwas erhöht ist) muss nicht zwangsläufig eine eingeschränkte Nierenfunktion bedeuten \":§ - man sollte bei solchen Auffälligkeiten aber den Cystatin C Wert bestimmen lassen bzw. ggf. einen Nephrologen aufsuchen, um das weiter abzuklären.\n",
      "Hier Infos zu Tolvaptan:\n",
      "https://www.aerzteblatt.de/nac…-Sicherheit-von-Tolvaptan\n",
      "\n",
      "\t\tZitat\n",
      "\t\tWenn ich dort Deine Werte eingebe, ergibt sich (nach CKD-EPI-Formel) eine eGFR von 67 ml/min, das entspricht lediglich einer \"milden Nierenfunktionseinschränkung\".\n",
      "\n",
      "musicus_65\n",
      "\n",
      "Die Einteilung, wonach hier eine \"milde Nierenfunktionseinschränkung\" rauskommt nach dem eGFR-Wert gilt nur für Patienten, die bereits eine diagnostizierte Nierenerkrankung haben. Daneben ist der eGFR-Wert wie gesagt sehr ungenau zur Bestimmung der tatsächlichen Nierenleistung.\n",
      "Quelle http://www.medlabor-wm.de/inde…m_content&do_pdf=1&id=205Ich habe beschrieben, wie es MIR geht und was ich geschrieben habe, entspricht den Tatsachen.\n",
      "\n",
      "Worin liegt der Sinn, meine Erfahrung mit \"man\" und \"üblicherweise\" zu vergleichen (abzuwerten)? Abgesehen davon lag meine GFR auch schon unter 30, was – gemäss Bericht des konsultierten Nephrologen – einer schwer eingeschränkten Nierenfunktion entspricht. Ich dümple also zwischen schwerer und mittelgradiger Insuffizienz herum. Selbstverständlich gibt es Krankheitsfälle, die wenig oder keine Einschränkungen haben, \n",
      "\n",
      "Spoiler anzeigen\n",
      "\n",
      "\t\toder die ihre Symptome negieren\n",
      "\t\n",
      " aber es gibt eben auch viele :(, denen es im genannten Stadium gar nicht gut geht.\n",
      "\n",
      "Es erschliesst sich mir nicht, warum ich alternative Ursachen für meine Beschwerden abklären lassen soll. Eine (1) plausible Diagnose ist genug.\n",
      "\n"
     ]
    }
   ],
   "source": [
    "text_part = \"\"\n",
    "start = -1\n",
    "posis = []\n",
    "for elemnr, elem in enumerate(tuple(soup.descendants)[3:], start=1):\n",
    "    if isinstance(elem, str):\n",
    "        new_text = elem.string\n",
    "        if (new_text == \"\\n\" or new_text == \"\\t\") and (text_part[-2:] == \"\\n\\n\" or text_part[-2:] == \"\\t\\t\"):\n",
    "            continue\n",
    "    elif elem.name == \"img\":\n",
    "        if elem.has_attr('alt'):\n",
    "            new_text = elem['alt']\n",
    "        else:\n",
    "            new_text = 'img'\n",
    "    else:\n",
    "        continue\n",
    "    \n",
    "    # erase too many tabs and newlines\n",
    "    new_text = re.sub(\"\\\\t\\\\t(\\\\t)*\", \"\\\\t\\\\t\", new_text)\n",
    "    new_text = re.sub(\"\\\\r\\\\n\", \"\\\\n\", new_text)\n",
    "    text_part += new_text\n",
    "    text_part = re.sub(\"\\\\n\\\\n(\\\\n)*\", \"\\\\n\\\\n\", text_part)\n",
    "    \n",
    "    start = len(text_part) - len(new_text.lstrip())\n",
    "    end  = start + len(new_text.strip())\n",
    "    posis.append([new_text.strip(), start, end])\n",
    "    \n",
    "print(text_part)"
   ]
  },
  {
   "cell_type": "code",
   "execution_count": 12,
   "metadata": {},
   "outputs": [
    {
     "name": "stdout",
     "output_type": "stream",
     "text": [
      "[1, 1, True, '', '']\n",
      "[1, 10, True, '@ lulipot', '@ lulipot']\n",
      "[11, 11, True, '', '']\n",
      "[11, 14, True, 'Jo!', 'Jo!']\n",
      "[15, 174, True, 'Lass mal deinen Cystatin C Wert bestimmen (geht beim Hausarzt per Blutuntersuchung). Der Cystatin C Wert ist ein Frühmarker für Nierenfunktionseinschränkungen.', 'Lass mal deinen Cystatin C Wert bestimmen (geht beim Hausarzt per Blutuntersuchung). Der Cystatin C Wert ist ein Frühmarker für Nierenfunktionseinschränkungen.']\n",
      "[175, 175, True, '', '']\n",
      "[176, 176, True, '', '']\n",
      "[176, 305, True, 'Bei mir ist der Cystatin C Wert z. B. völlig ok; der (bzgl. der Nierenfunktion ungenaue) eGFR-Wert liegt bei mir unter 60 ml/min.', 'Bei mir ist der Cystatin C Wert z. B. völlig ok; der (bzgl. der Nierenfunktion ungenaue) eGFR-Wert liegt bei mir unter 60 ml/min.']\n",
      "[306, 309, True, '\":/', '\":/']\n",
      "[310, 501, True, 'Der EGFR-Wert ist aber sehr ungenau und eine leichte Erhöhung des Kreatininwertes (der bei mir zB ständig etwas erhöht ist) muss nicht zwangsläufig eine eingeschränkte Nierenfunktion bedeuten', 'Der EGFR-Wert ist aber sehr ungenau und eine leichte Erhöhung des Kreatininwertes (der bei mir zB ständig etwas erhöht ist) muss nicht zwangsläufig eine eingeschränkte Nierenfunktion bedeuten']\n",
      "[502, 505, True, '\":§', '\":§']\n",
      "[506, 653, True, '- man sollte bei solchen Auffälligkeiten aber den Cystatin C Wert bestimmen lassen bzw. ggf. einen Nephrologen aufsuchen, um das weiter abzuklären.', '- man sollte bei solchen Auffälligkeiten aber den Cystatin C Wert bestimmen lassen bzw. ggf. einen Nephrologen aufsuchen, um das weiter abzuklären.']\n",
      "[654, 654, True, '', '']\n",
      "[654, 678, True, 'Hier Infos zu Tolvaptan:', 'Hier Infos zu Tolvaptan:']\n",
      "[679, 679, True, '', '']\n",
      "[679, 735, True, 'https://www.aerzteblatt.de/nac…-Sicherheit-von-Tolvaptan', 'https://www.aerzteblatt.de/nac…-Sicherheit-von-Tolvaptan']\n",
      "[736, 736, True, '', '']\n",
      "[737, 737, True, '', '']\n",
      "[739, 744, True, 'Zitat', 'Zitat']\n",
      "[747, 910, True, 'Wenn ich dort Deine Werte eingebe, ergibt sich (nach CKD-EPI-Formel) eine eGFR von 67 ml/min, das entspricht lediglich einer \"milden Nierenfunktionseinschränkung\".', 'Wenn ich dort Deine Werte eingebe, ergibt sich (nach CKD-EPI-Formel) eine eGFR von 67 ml/min, das entspricht lediglich einer \"milden Nierenfunktionseinschränkung\".']\n",
      "[911, 911, True, '', '']\n",
      "[912, 912, True, '', '']\n",
      "[912, 922, True, 'musicus_65', 'musicus_65']\n",
      "[923, 923, True, '', '']\n",
      "[924, 924, True, '', '']\n",
      "[924, 1202, True, 'Die Einteilung, wonach hier eine \"milde Nierenfunktionseinschränkung\" rauskommt nach dem eGFR-Wert gilt nur für Patienten, die bereits eine diagnostizierte Nierenerkrankung haben. Daneben ist der eGFR-Wert wie gesagt sehr ungenau zur Bestimmung der tatsächlichen Nierenleistung.', 'Die Einteilung, wonach hier eine \"milde Nierenfunktionseinschränkung\" rauskommt nach dem eGFR-Wert gilt nur für Patienten, die bereits eine diagnostizierte Nierenerkrankung haben. Daneben ist der eGFR-Wert wie gesagt sehr ungenau zur Bestimmung der tatsächlichen Nierenleistung.']\n",
      "[1203, 1203, True, '', '']\n",
      "[1203, 1209, True, 'Quelle', 'Quelle']\n",
      "[1210, 1266, True, 'http://www.medlabor-wm.de/inde…m_content&do_pdf=1&id=205', 'http://www.medlabor-wm.de/inde…m_content&do_pdf=1&id=205']\n",
      "[1266, 1359, True, 'Ich habe beschrieben, wie es MIR geht und was ich geschrieben habe, entspricht den Tatsachen.', 'Ich habe beschrieben, wie es MIR geht und was ich geschrieben habe, entspricht den Tatsachen.']\n",
      "[1360, 1360, True, '', '']\n",
      "[1361, 1361, True, '', '']\n",
      "[1361, 1778, True, 'Worin liegt der Sinn, meine Erfahrung mit \"man\" und \"üblicherweise\" zu vergleichen (abzuwerten)? Abgesehen davon lag meine GFR auch schon unter 30, was – gemäss Bericht des konsultierten Nephrologen – einer schwer eingeschränkten Nierenfunktion entspricht. Ich dümple also zwischen schwerer und mittelgradiger Insuffizienz herum. Selbstverständlich gibt es Krankheitsfälle, die wenig oder keine Einschränkungen haben,', 'Worin liegt der Sinn, meine Erfahrung mit \"man\" und \"üblicherweise\" zu vergleichen (abzuwerten)? Abgesehen davon lag meine GFR auch schon unter 30, was – gemäss Bericht des konsultierten Nephrologen – einer schwer eingeschränkten Nierenfunktion entspricht. Ich dümple also zwischen schwerer und mittelgradiger Insuffizienz herum. Selbstverständlich gibt es Krankheitsfälle, die wenig oder keine Einschränkungen haben,']\n",
      "[1780, 1780, True, '', '']\n",
      "[1781, 1781, True, '', '']\n",
      "[1781, 1797, True, 'Spoiler anzeigen', 'Spoiler anzeigen']\n",
      "[1798, 1798, True, '', '']\n",
      "[1799, 1799, True, '', '']\n",
      "[1801, 1832, True, 'oder die ihre Symptome negieren', 'oder die ihre Symptome negieren']\n",
      "[1835, 1835, True, '', '']\n",
      "[1836, 1864, True, 'aber es gibt eben auch viele', 'aber es gibt eben auch viele']\n",
      "[1865, 1867, True, ':(', ':(']\n",
      "[1867, 1918, True, ', denen es im genannten Stadium gar nicht gut geht.', ', denen es im genannten Stadium gar nicht gut geht.']\n",
      "[1920, 1920, True, '', '']\n",
      "[1920, 2064, True, 'Es erschliesst sich mir nicht, warum ich alternative Ursachen für meine Beschwerden abklären lassen soll. Eine (1) plausible Diagnose ist genug.', 'Es erschliesst sich mir nicht, warum ich alternative Ursachen für meine Beschwerden abklären lassen soll. Eine (1) plausible Diagnose ist genug.']\n",
      "[2065, 2065, True, '', '']\n"
     ]
    }
   ],
   "source": [
    "for text, st, en in posis:\n",
    "    print([st, en, text_part[st:en]==text, text,text_part[st:en]])"
   ]
  },
  {
   "cell_type": "code",
   "execution_count": 9,
   "metadata": {},
   "outputs": [
    {
     "data": {
      "text/plain": [
       "'serstr'"
      ]
     },
     "execution_count": 9,
     "metadata": {},
     "output_type": "execute_result"
    }
   ],
   "source": [
    "newlinestext = \"\\n\\nserstr\"\n",
    "start = re.sub(r'^(\\n)*',\"\",newlinestext)\n",
    "start"
   ]
  },
  {
   "cell_type": "markdown",
   "metadata": {},
   "source": [
    "# Zeilenumbrüche anhand HTML-Struktur"
   ]
  },
  {
   "cell_type": "code",
   "execution_count": 37,
   "metadata": {
    "scrolled": true
   },
   "outputs": [
    {
     "name": "stdout",
     "output_type": "stream",
     "text": [
      "\n",
      "@ lulipot\n",
      "Jo! Lass mal deinen Cystatin C Wert bestimmen (geht beim Hausarzt per Blutuntersuchung). Der Cystatin C Wert ist ein Frühmarker für Nierenfunktionseinschränkungen.\n",
      "\n",
      "Bei mir ist der Cystatin C Wert z. B. völlig ok; der (bzgl. der Nierenfunktion ungenaue) eGFR-Wert liegt bei mir unter 60 ml/min.  Der EGFR-Wert ist aber sehr ungenau und eine leichte Erhöhung des Kreatininwertes (der bei mir zB ständig etwas erhöht ist) muss nicht zwangsläufig eine eingeschränkte Nierenfunktion bedeuten  - man sollte bei solchen Auffälligkeiten aber den Cystatin C Wert bestimmen lassen bzw. ggf. einen Nephrologen aufsuchen, um das weiter abzuklären.\n",
      "Hier Infos zu Tolvaptan:\n",
      "https://www.aerzteblatt.de/nac…-Sicherheit-von-Tolvaptan\n",
      "\n",
      "\n",
      "\n",
      "\n",
      "\r\n",
      "\t\t\t\t\t\t\t\t\tZitat\r\n",
      "\t\t\t\t\t\t\t\n",
      "\n",
      "\n",
      "\n",
      "\n",
      "\n",
      "Wenn ich dort Deine Werte eingebe, ergibt sich (nach CKD-EPI-Formel) eine eGFR von 67 ml/min, das entspricht lediglich einer \"milden Nierenfunktionseinschränkung\".\n",
      "\n",
      "musicus_65\n",
      "\n",
      "Die Einteilung, wonach hier eine \"milde Nierenfunktionseinschränkung\" rauskommt nach dem eGFR-Wert gilt nur für Patienten, die bereits eine diagnostizierte Nierenerkrankung haben. Daneben ist der eGFR-Wert wie gesagt sehr ungenau zur Bestimmung der tatsächlichen Nierenleistung.\n",
      "Quelle http://www.medlabor-wm.de/inde…m_content&do_pdf=1&id=205Ich habe beschrieben, wie es MIR geht und was ich geschrieben habe, entspricht den Tatsachen.\n",
      "\n",
      "Worin liegt der Sinn, meine Erfahrung mit \"man\" und \"üblicherweise\" zu vergleichen (abzuwerten)? Abgesehen davon lag meine GFR auch schon unter 30, was – gemäss Bericht des konsultierten Nephrologen – einer schwer eingeschränkten Nierenfunktion entspricht. Ich dümple also zwischen schwerer und mittelgradiger Insuffizienz herum. Selbstverständlich gibt es Krankheitsfälle, die wenig oder keine Einschränkungen haben, \n",
      "\n",
      "Spoiler anzeigen\n",
      "\n",
      "\r\n",
      "\t\toder die ihre Symptome negieren\r\n",
      "\t\n",
      " aber es gibt eben auch viele , denen es im genannten Stadium gar nicht gut geht.\n",
      "\n",
      "Es erschliesst sich mir nicht, warum ich alternative Ursachen für meine Beschwerden abklären lassen soll. Eine (1) plausible Diagnose ist genug.\n",
      "\n"
     ]
    }
   ],
   "source": [
    "htmltext = \"<div class=\\\"messageText\\\" itemprop=\\\"text\\\">\\r\\n\\t\\t\\t\\t\\t\\t\\t\\r\\n\\t\\t\\t\\t\\t\\t\\t\\n<h2>@ lulipot</h2>\\n<p><span>Jo!</span> Lass mal deinen Cystatin C Wert bestimmen (geht beim Hausarzt per Blutuntersuchung). Der Cystatin C Wert ist ein Frühmarker für Nierenfunktionseinschränkungen.</p>\\n<p><br></p>\\n<p>Bei mir ist der Cystatin C Wert z. B. völlig ok; der (bzgl. der Nierenfunktion ungenaue) eGFR-Wert liegt bei mir unter 60 ml/min. <img height=\\\"33\\\" class=\\\"smiley\\\" alt='\\\":/' src=\\\"https://www.med1.de/images/smilies/s41.gif\\\" title=\\\"\\\"> Der EGFR-Wert ist aber sehr ungenau und eine leichte Erhöhung des Kreatininwertes (der bei mir zB ständig etwas erhöht ist) muss nicht zwangsläufig eine eingeschränkte Nierenfunktion bedeuten <img height=\\\"33\\\" class=\\\"smiley\\\" alt='\\\":§' src=\\\"https://www.med1.de/images/smilies/s99.gif\\\" title=\\\"\\\"> - man sollte bei solchen Auffälligkeiten aber den Cystatin C Wert bestimmen lassen bzw. ggf. einen Nephrologen aufsuchen, um das weiter abzuklären.</p>\\n<p>Hier Infos zu Tolvaptan:<br></p>\\n<p><a href=\\\"https://www.aerzteblatt.de/nachrichten/83279/Zystennieren-Studie-bestaetigt-Effektivitaet-und-Sicherheit-von-Tolvaptan\\\" class=\\\"externalURL\\\" target=\\\"_blank\\\" rel=\\\"nofollow noopener noreferrer\\\">https://www.aerzteblatt.de/nac…-Sicherheit-von-Tolvaptan</a></p>\\n<p><br></p>\\n<blockquote class=\\\"quoteBox collapsibleBbcode jsCollapsibleBbcode quoteBoxSimple\\\">\\r\\n\\t<div class=\\\"quote-box-header\\\">\\r\\n\\t\\t<div class=\\\"quoteBoxTitle\\\">\\r\\n\\t\\t\\t<span class=\\\"quoteBoxTitle\\\">\\r\\n\\t\\t\\t\\t\\t\\t\\t\\t\\tZitat\\r\\n\\t\\t\\t\\t\\t\\t\\t</span>\\r\\n\\t\\t</div>\\r\\n\\r\\n\\t\\t<div class=\\\"quoteBoxIcon\\\">\\r\\n\\t\\t\\t\\t\\t</div>\\r\\n\\t</div>\\r\\n\\t\\r\\n\\t<div class=\\\"quoteBoxContent\\\">\\r\\n\\t\\t<p>Wenn ich dort Deine Werte eingebe, ergibt sich (nach CKD-EPI-Formel) eine eGFR von 67 ml/min, das entspricht lediglich einer \\\"milden Nierenfunktionseinschränkung\\\".</p>\\n<p><br></p>\\n<p>musicus_65</p>\\r\\n\\t</div>\\r\\n\\t\\r\\n\\t</blockquote><p>Die Einteilung, wonach hier eine \\\"milde Nierenfunktionseinschränkung\\\" rauskommt nach dem eGFR-Wert gilt nur für Patienten, die bereits eine diagnostizierte Nierenerkrankung haben. Daneben ist der eGFR-Wert wie gesagt sehr ungenau zur Bestimmung der tatsächlichen Nierenleistung.</p>\\n<p>Quelle <a href=\\\"http://www.medlabor-wm.de/index2.php?option=com_content&amp;do_pdf=1&amp;id=205\\\" class=\\\"externalURL\\\" target=\\\"_blank\\\" rel=\\\"nofollow noopener noreferrer\\\">http://www.medlabor-wm.de/inde…m_content&amp;do_pdf=1&amp;id=205</a></p><p>Ich habe beschrieben, wie es MIR geht und was ich geschrieben habe, entspricht den Tatsachen.</p>\\n<p><br></p>\\n<p>Worin liegt der Sinn, meine Erfahrung mit \\\"man\\\" und \\\"üblicherweise\\\" zu vergleichen (abzuwerten)? Abgesehen davon lag meine GFR auch schon unter 30, was – gemäss Bericht des konsultierten Nephrologen – einer schwer eingeschränkten Nierenfunktion entspricht. Ich dümple also zwischen schwerer und mittelgradiger Insuffizienz herum. Selbstverständlich gibt es Krankheitsfälle, die wenig oder keine Einschränkungen haben, </p><div class=\\\"spoilerBox jsSpoilerBox\\\">\\r\\n\\t<div class=\\\"jsOnly spoilerBoxHeader\\\">\\r\\n\\t\\t<a class=\\\"button small jsSpoilerToggle\\\">Spoiler anzeigen</a>\\r\\n\\t</div>\\r\\n\\t\\r\\n\\t<div class=\\\"spoilerBoxContent\\\" style=\\\"display: none\\\">\\r\\n\\t\\toder die ihre Symptome negieren\\r\\n\\t</div>\\r\\n\\t\\r\\n\\t\\t\\t\\t\\t</div> aber es gibt eben auch viele <img alt=':(' title=bla>, denen es im genannten Stadium gar nicht gut geht.\\n<p><br></p>\\n<p>Es erschliesst sich mir nicht, warum ich alternative Ursachen für meine Beschwerden abklären lassen soll. Eine (1) plausible Diagnose ist genug.</p>\\n\\t\\t\\t\\t\\t\\t</div>\"\n",
    "html = \"<div>Jo<h2>Bla</h2><p>Ha<b>l</b>lo</p><br/><p>Jo</p><p>A<b>l</b>da <img> hehe</p><p>Jo</p></div>\"\n",
    "html += \"<p><div><div><p>Jo, Alda, <span> yeah </span><span>y<i>e</i>ah</span><p><p>Bammm<p></div></div></p>\"\n",
    "soup = BeautifulSoup(htmltext, 'html.parser')\n",
    "print(\"\".join(s for s in soup.strings))"
   ]
  },
  {
   "cell_type": "code",
   "execution_count": 180,
   "metadata": {
    "code_folding": [
     53,
     61,
     67
    ],
    "scrolled": false
   },
   "outputs": [
    {
     "name": "stdout",
     "output_type": "stream",
     "text": [
      "@ lulipot\n",
      "\n",
      "Jo! Lass mal deinen Cystatin C Wert bestimmen (geht beim Hausarzt per Blutuntersuchung). Der Cystatin C Wert ist ein Frühmarker für Nierenfunktionseinschränkungen.\n",
      "\n",
      "Bei mir ist der Cystatin C Wert z. B. völlig ok; der (bzgl. der Nierenfunktion ungenaue) eGFR-Wert liegt bei mir unter 60 ml/min. \":/ Der EGFR-Wert ist aber sehr ungenau und eine leichte Erhöhung des Kreatininwertes (der bei mir zB ständig etwas erhöht ist) muss nicht zwangsläufig eine eingeschränkte Nierenfunktion bedeuten \":§ - man sollte bei solchen Auffälligkeiten aber den Cystatin C Wert bestimmen lassen bzw. ggf. einen Nephrologen aufsuchen, um das weiter abzuklären.\n",
      "\n",
      "Hier Infos zu Tolvaptan: \n",
      "\n",
      "https://www.aerzteblatt.de/nac…-Sicherheit-von-Tolvaptan\n",
      "\n",
      "Zitat\n",
      "\n",
      "Wenn ich dort Deine Werte eingebe, ergibt sich (nach CKD-EPI-Formel) eine eGFR von 67 ml/min, das entspricht lediglich einer \"milden Nierenfunktionseinschränkung\".\n",
      "\n",
      "musicus_65\n",
      "\n",
      "Die Einteilung, wonach hier eine \"milde Nierenfunktionseinschränkung\" rauskommt nach dem eGFR-Wert gilt nur für Patienten, die bereits eine diagnostizierte Nierenerkrankung haben. Daneben ist der eGFR-Wert wie gesagt sehr ungenau zur Bestimmung der tatsächlichen Nierenleistung.\n",
      "\n",
      "Quelle  http://www.medlabor-wm.de/inde…m_content&do_pdf=1&id=205\n",
      "\n",
      "Ich habe beschrieben, wie es MIR geht und was ich geschrieben habe, entspricht den Tatsachen.\n",
      "\n",
      "Worin liegt der Sinn, meine Erfahrung mit \"man\" und \"üblicherweise\" zu vergleichen (abzuwerten)? Abgesehen davon lag meine GFR auch schon unter 30, was – gemäss Bericht des konsultierten Nephrologen – einer schwer eingeschränkten Nierenfunktion entspricht. Ich dümple also zwischen schwerer und mittelgradiger Insuffizienz herum. Selbstverständlich gibt es Krankheitsfälle, die wenig oder keine Einschränkungen haben,\n",
      "\n",
      "Spoiler anzeigen\n",
      "oder die ihre Symptome negieren\n",
      "aber es gibt eben auch viele :( , denen es im genannten Stadium gar nicht gut geht.\n",
      "\n",
      "Es erschliesst sich mir nicht, warum ich alternative Ursachen für meine Beschwerden abklären lassen soll. Eine (1) plausible Diagnose ist genug.\n"
     ]
    }
   ],
   "source": [
    "descendants = tuple(soup.descendants)\n",
    "nl_elements = [\"div\",\"p\",\"h1\",\"h2\",\"h3\",\"h4\",\"h5\",\"blockquote\"]\n",
    "old_plen = 0\n",
    "blocks = 0\n",
    "text_merged = \"\"\n",
    "#olds = \"\"\n",
    "#previous_name = \"\"\n",
    "#hierarchy = [0]\n",
    "#names = [soup.name]\n",
    "posis = []\n",
    "\n",
    "for s in soup.descendants:\n",
    "    \n",
    "    # ignore empty lines\n",
    "    if s.string and not s.string.strip():\n",
    "        continue\n",
    "    \n",
    "    # detect level in the html tree\n",
    "    # s.parents is generator -> len() not possible\n",
    "    # ignore the highest parent ('[document]')\n",
    "    plen = sum(1 for _ in s.parents) - 1\n",
    "    \n",
    "    # if this element is on a deeper level than the previous one\n",
    "    if old_plen < plen:\n",
    "        #hierarchy.append(1)\n",
    "        #names.append(s.name)\n",
    "        \n",
    "        # if this element is a new blockelement\n",
    "        if s.name in nl_elements:\n",
    "            blocks += 1\n",
    "            if text_merged and text_merged[-2:] != \"\\n\\n\":\n",
    "                if s.name in nl_elements[1:]:\n",
    "                    text_merged += \"\\n\\n\"\n",
    "                elif s.name == nl_elements[0]:\n",
    "                    text_merged += \"\\n\"\n",
    "    \n",
    "    # if this element is on the same level as the previous one\n",
    "    elif old_plen == plen:\n",
    "        #hierarchy[plen] += 1\n",
    "        #names[plen] = s.name\n",
    "        \n",
    "        # if this element is a new blockelement\n",
    "        if text_merged and text_merged[-2:] != \"\\n\\n\":\n",
    "            if s.name in nl_elements[1:]:\n",
    "                text_merged += \"\\n\\n\"\n",
    "            elif s.name == nl_elements[0]:\n",
    "                text_merged += \"\\n\"\n",
    "    \n",
    "    # if this element is on a higher level than the previous one\n",
    "    elif old_plen > plen:\n",
    "        #hierarchy[plen] += 1\n",
    "        \n",
    "        # if blockelements are closed\n",
    "        if plen <= blocks:\n",
    "            if s.name in nl_elements[1:] and text_merged and text_merged[-2:] != \"\\n\\n\":\n",
    "                text_merged += \"\\n\\n\"\n",
    "            elif text_merged and text_merged[-2:] != \"\\n\\n\" and\\\n",
    "                (new_text is not None or (new_text is None and s.contents != [])):\n",
    "                text_merged += \"\\n\"\n",
    "        \n",
    "        # level of the current highest/last blockelement\n",
    "        blocks -= blocks - plen\n",
    "        \n",
    "        \"\"\"\n",
    "        for i in range(old_plen - plen):\n",
    "            #del hierarchy[plen + 1]\n",
    "            #del names[plen + 1]\n",
    "        #names[plen] = s.name\"\"\"\n",
    "        \n",
    "    old_plen = plen\n",
    "    \n",
    "    \"\"\"\n",
    "    if olds in s.parents:\n",
    "        if plen < 1: plen = 1\n",
    "        if s.name is None:\n",
    "            print(\"|   \"*plen, blocks, hierarchy, [names[-2], previous_name, s.name],s.string[:10].strip())\n",
    "        else:\n",
    "            print(\"|   \"*plen, blocks, hierarchy, [names[-2], previous_name, s.name])\n",
    "    else:\n",
    "        olds = s\n",
    "        print(\"_________\")\n",
    "        print(\"¦\", hierarchy, s.name, [p.name for p in s.parents]) #\"\"\"\n",
    "    \n",
    "    # if no line breaks, add space\n",
    "    if text_merged and text_merged[-1] != \"\\n\":\n",
    "        text_merged += \" \"\n",
    "    \n",
    "    # add the new text\n",
    "    if s.name is None:\n",
    "        new_text = s.strip()\n",
    "        text_merged += new_text\n",
    "    else:\n",
    "        #previous_name = s.name\n",
    "        if s.name == \"img\":\n",
    "            if s.has_attr('alt'):\n",
    "                new_text = s['alt']\n",
    "            else:\n",
    "                new_text = \"img\"\n",
    "            text_merged += new_text\n",
    "            # hier direkt processed_images befüllen!\n",
    "        elif s.name == \"br\" and s.parent.string is None:\n",
    "            text_merged += \"\\n\\n\"\n",
    "            continue\n",
    "        else:\n",
    "            continue\n",
    "    \n",
    "    # avoid multiple empty lines or comment out for html-like line breaks\n",
    "    text_merged = re.sub(\"\\\\n\\\\n(\\\\n)*\", \"\\\\n\\\\n\", text_merged)\n",
    "    \n",
    "    # get the positions\n",
    "    new_text_len = len(new_text.strip())\n",
    "    start_index = len(text_merged) - new_text_len\n",
    "    end_index  = start_index + new_text_len\n",
    "    \n",
    "    posis.append((start_index,end_index))\n",
    "    \n",
    "print(text_merged)"
   ]
  },
  {
   "cell_type": "code",
   "execution_count": 178,
   "metadata": {},
   "outputs": [
    {
     "data": {
      "text/plain": [
       "(0, 9, '@ lulipot')"
      ]
     },
     "execution_count": 178,
     "metadata": {},
     "output_type": "execute_result"
    }
   ],
   "source": [
    "i = 0\n",
    "s,e = posis[i]\n",
    "s,e,text_merged[s:e]"
   ]
  },
  {
   "cell_type": "code",
   "execution_count": 203,
   "metadata": {
    "collapsed": true
   },
   "outputs": [
    {
     "data": {
      "text/plain": [
       "[<div>Jo<h2>Bla</h2><p>Ha<b>l</b>lo</p><br/><p>Jo</p><p>A<b>l</b>da <img/> hehe</p><p>Jo</p></div>,\n",
       " 'Jo',\n",
       " <h2>Bla</h2>,\n",
       " 'Bla',\n",
       " <p>Ha<b>l</b>lo</p>,\n",
       " 'Ha',\n",
       " <b>l</b>,\n",
       " 'l',\n",
       " 'lo',\n",
       " <br/>,\n",
       " <p>Jo</p>,\n",
       " 'Jo',\n",
       " <p>A<b>l</b>da <img/> hehe</p>,\n",
       " 'A',\n",
       " <b>l</b>,\n",
       " 'l',\n",
       " 'da ',\n",
       " <img/>,\n",
       " ' hehe',\n",
       " <p>Jo</p>,\n",
       " 'Jo',\n",
       " <p><div><div><p>Jo, Alda, <span> yeah </span><span>y<i>e</i>ah</span><p><p>Bammm<p></p></p></p></p></div></div></p>,\n",
       " <div><div><p>Jo, Alda, <span> yeah </span><span>y<i>e</i>ah</span><p><p>Bammm<p></p></p></p></p></div></div>,\n",
       " <div><p>Jo, Alda, <span> yeah </span><span>y<i>e</i>ah</span><p><p>Bammm<p></p></p></p></p></div>,\n",
       " <p>Jo, Alda, <span> yeah </span><span>y<i>e</i>ah</span><p><p>Bammm<p></p></p></p></p>,\n",
       " 'Jo, Alda, ',\n",
       " <span> yeah </span>,\n",
       " ' yeah ',\n",
       " <span>y<i>e</i>ah</span>,\n",
       " 'y',\n",
       " <i>e</i>,\n",
       " 'e',\n",
       " 'ah',\n",
       " <p><p>Bammm<p></p></p></p>,\n",
       " <p>Bammm<p></p></p>,\n",
       " 'Bammm',\n",
       " <p></p>]"
      ]
     },
     "execution_count": 203,
     "metadata": {},
     "output_type": "execute_result"
    }
   ],
   "source": [
    "[d for d in soup.descendants]"
   ]
  },
  {
   "cell_type": "markdown",
   "metadata": {},
   "source": [
    "## soup.find()"
   ]
  },
  {
   "cell_type": "code",
   "execution_count": 204,
   "metadata": {},
   "outputs": [
    {
     "name": "stdout",
     "output_type": "stream",
     "text": [
      "<b>l</b> <p>Ha<b>l</b>lo</p> <p>Jo</p>\n"
     ]
    }
   ],
   "source": [
    "#soup.index(\"<b>l</b>\")\n",
    "bl = soup.find(\"b\",text=\"l\")\n",
    "p = soup.find(\"p\")\n",
    "jo = soup.find(\"p\",text=\"Jo\")\n",
    "print(bl, p, jo)"
   ]
  },
  {
   "cell_type": "markdown",
   "metadata": {},
   "source": [
    "## .index()"
   ]
  },
  {
   "cell_type": "code",
   "execution_count": 48,
   "metadata": {
    "collapsed": true
   },
   "outputs": [
    {
     "name": "stdout",
     "output_type": "stream",
     "text": [
      "1\n",
      "2\n"
     ]
    },
    {
     "ename": "ValueError",
     "evalue": "Tag.index: element not in tag",
     "output_type": "error",
     "traceback": [
      "\u001b[0;31m---------------------------------------------------------------------------\u001b[0m",
      "\u001b[0;31mValueError\u001b[0m                                Traceback (most recent call last)",
      "\u001b[0;32m<ipython-input-48-f5bca50e2532>\u001b[0m in \u001b[0;36m<module>\u001b[0;34m\u001b[0m\n\u001b[1;32m      2\u001b[0m \u001b[0mprint\u001b[0m\u001b[0;34m(\u001b[0m\u001b[0mp\u001b[0m\u001b[0;34m.\u001b[0m\u001b[0mindex\u001b[0m\u001b[0;34m(\u001b[0m\u001b[0mbl\u001b[0m\u001b[0;34m)\u001b[0m\u001b[0;34m)\u001b[0m\u001b[0;34m\u001b[0m\u001b[0;34m\u001b[0m\u001b[0m\n\u001b[1;32m      3\u001b[0m \u001b[0mprint\u001b[0m\u001b[0;34m(\u001b[0m\u001b[0mdiv\u001b[0m\u001b[0;34m.\u001b[0m\u001b[0mindex\u001b[0m\u001b[0;34m(\u001b[0m\u001b[0mjo\u001b[0m\u001b[0;34m)\u001b[0m\u001b[0;34m)\u001b[0m\u001b[0;34m\u001b[0m\u001b[0;34m\u001b[0m\u001b[0m\n\u001b[0;32m----> 4\u001b[0;31m \u001b[0mdiv\u001b[0m\u001b[0;34m.\u001b[0m\u001b[0mindex\u001b[0m\u001b[0;34m(\u001b[0m\u001b[0mbl\u001b[0m\u001b[0;34m)\u001b[0m\u001b[0;34m\u001b[0m\u001b[0;34m\u001b[0m\u001b[0m\n\u001b[0m",
      "\u001b[0;32m~/miniconda3/envs/testenv/lib/python3.7/site-packages/bs4/element.py\u001b[0m in \u001b[0;36mindex\u001b[0;34m(self, element)\u001b[0m\n\u001b[1;32m    945\u001b[0m             \u001b[0;32mif\u001b[0m \u001b[0mchild\u001b[0m \u001b[0;32mis\u001b[0m \u001b[0melement\u001b[0m\u001b[0;34m:\u001b[0m\u001b[0;34m\u001b[0m\u001b[0;34m\u001b[0m\u001b[0m\n\u001b[1;32m    946\u001b[0m                 \u001b[0;32mreturn\u001b[0m \u001b[0mi\u001b[0m\u001b[0;34m\u001b[0m\u001b[0;34m\u001b[0m\u001b[0m\n\u001b[0;32m--> 947\u001b[0;31m         \u001b[0;32mraise\u001b[0m \u001b[0mValueError\u001b[0m\u001b[0;34m(\u001b[0m\u001b[0;34m\"Tag.index: element not in tag\"\u001b[0m\u001b[0;34m)\u001b[0m\u001b[0;34m\u001b[0m\u001b[0;34m\u001b[0m\u001b[0m\n\u001b[0m\u001b[1;32m    948\u001b[0m \u001b[0;34m\u001b[0m\u001b[0m\n\u001b[1;32m    949\u001b[0m     \u001b[0;32mdef\u001b[0m \u001b[0mget\u001b[0m\u001b[0;34m(\u001b[0m\u001b[0mself\u001b[0m\u001b[0;34m,\u001b[0m \u001b[0mkey\u001b[0m\u001b[0;34m,\u001b[0m \u001b[0mdefault\u001b[0m\u001b[0;34m=\u001b[0m\u001b[0;32mNone\u001b[0m\u001b[0;34m)\u001b[0m\u001b[0;34m:\u001b[0m\u001b[0;34m\u001b[0m\u001b[0;34m\u001b[0m\u001b[0m\n",
      "\u001b[0;31mValueError\u001b[0m: Tag.index: element not in tag"
     ]
    }
   ],
   "source": [
    "div = soup.find(\"div\")\n",
    "print(p.index(bl))\n",
    "print(div.index(jo))\n",
    "div.index(bl)"
   ]
  },
  {
   "cell_type": "markdown",
   "metadata": {},
   "source": [
    "## Rumtesten"
   ]
  },
  {
   "cell_type": "code",
   "execution_count": 215,
   "metadata": {},
   "outputs": [
    {
     "name": "stdout",
     "output_type": "stream",
     "text": [
      "oder die ihre Symptome negieren\n"
     ]
    }
   ],
   "source": [
    "s = BeautifulSoup(\"\"\"<div class=\\\"spoilerBox jsSpoilerBox\\\">\n",
    "\t\t<div class=\\\"jsOnly spoilerBoxHeader\\\"><a class=\\\"button small jsSpoilerToggle\\\">Spoiler anzeigen</a></div>\n",
    "\t\t<div class=\\\"spoilerBoxContent\\\" style=\\\"display: none\\\">oder die ihre Symptome negieren</div>\n",
    "\t</div>\"\"\")\n",
    "#s.div.string is not None or (s.div.string is not None and s.div.contents != [])\n",
    "#print(s.div.string)\n",
    "for elem in s.descendants:\n",
    "    parents = tuple(elem.parents)[:-2]\n",
    "    if elem.name is not None:\n",
    "        if parents and elem.string is not None and elem.parent.find_all('div', class_= \"spoilerBoxContent\"):\n",
    "            #print(elem.parent.find_all('div', class_= \"spoilerBoxContent\")[0], elem.string)\n",
    "            pass\n",
    "    for e in elem.parent.find_all('div', class_= \"spoilerBoxContent\"):\n",
    "        if elem == e:\n",
    "            print(elem.string)\n",
    "#s.find_all('div', class_= \"spoilerBoxContent\")"
   ]
  },
  {
   "cell_type": "code",
   "execution_count": 18,
   "metadata": {},
   "outputs": [
    {
     "data": {
      "text/plain": [
       "([2, 3, 4], None)"
      ]
     },
     "execution_count": 18,
     "metadata": {},
     "output_type": "execute_result"
    }
   ],
   "source": [
    "v = {1:(1,2), 2:(2,3),3:(3,4)}\n",
    "[b[1] for b in v.values()], v.get(5)"
   ]
  },
  {
   "cell_type": "code",
   "execution_count": 23,
   "metadata": {},
   "outputs": [],
   "source": [
    "input_file = '/mnt/e/Studium/Weiterbildungen/Python/Portfolio/dfki_webscraping-master/med1/med1.1.jl'\n",
    "import json\n",
    "from collections import defaultdict\n",
    "with open(input_file, encoding='utf8') as data_file:\n",
    "    adata_lines = data_file.readlines()\n",
    "    adata = [json.loads(dicline) for dicline in adata_lines]\n",
    "\n",
    "    # Group data into threads and create list with all posts \n",
    "    dicthreads = defaultdict(list)\n",
    "    aposts = []\n",
    "\n",
    "    for dicpost in adata:\n",
    "        aposts.append(dicpost)\n",
    "        dicthreads[dicpost['thread-id']].append(dicpost)"
   ]
  },
  {
   "cell_type": "code",
   "execution_count": 56,
   "metadata": {},
   "outputs": [
    {
     "name": "stdout",
     "output_type": "stream",
     "text": [
      "jo\n"
     ]
    }
   ],
   "source": [
    "bla = dicthreads[\"https://www.med1.de/forum/nierenerkrankungen/weiss-nicht-weiter-nierenprobleme-oder-binn-ich-verrueckt-739474/\"]\n",
    "if sum(1 if post[\"content-title\"] is not None else 0 for post in bla):\n",
    "    print(\"jo\")"
   ]
  },
  {
   "cell_type": "code",
   "execution_count": 41,
   "metadata": {},
   "outputs": [
    {
     "data": {
      "text/plain": [
       "9"
      ]
     },
     "execution_count": 41,
     "metadata": {},
     "output_type": "execute_result"
    }
   ],
   "source": [
    "len(set([post[\"username\"] for post in bla]))"
   ]
  },
  {
   "cell_type": "code",
   "execution_count": 63,
   "metadata": {},
   "outputs": [
    {
     "data": {
      "text/plain": [
       "[(1, ('Altersack56', '')),\n",
       " (2, ('Andre_M', '')),\n",
       " (3,\n",
       "  ('Andre_M', 'Weiß nicht weiter, Nierenprobleme oder binn ich verrückt ?')),\n",
       " (4, ('Drachenblut', '')),\n",
       " (5, ('Myrmidone', '')),\n",
       " (6, ('Seldom', '')),\n",
       " (7, ('agnes', '')),\n",
       " (8, ('djermo', '')),\n",
       " (9, ('mandysu', '')),\n",
       " (10, ('theempress', ''))]"
      ]
     },
     "execution_count": 63,
     "metadata": {},
     "output_type": "execute_result"
    }
   ],
   "source": [
    "set([post[\"username\"] for post in bla]) #if post[\"data-user-id\"] == '']\n",
    "userids = {\n",
    "        threadid:\n",
    "            {\n",
    "                user: 0 if not content_title == '' else idx\n",
    "                for idx, (user, content_title)\n",
    "                in enumerate(sorted(list(set(\n",
    "                    ((u['username'], u['content-title']) if u['content-title'] is not None else (u['username'], '')\n",
    "                     for u in thread)\n",
    "                    ))), start=1)\n",
    "            }\n",
    "        for threadid, thread in dicthreads.items()\n",
    "        }\n",
    "userids[bla[0][\"thread-id\"]]\n",
    "[x for x in enumerate(sorted(list(set(\n",
    "                    ((u['username'], u['content-title']) if u['content-title'] is not None else (u['username'], '')\n",
    "                     for u in bla)\n",
    "                    ))), start=1)]"
   ]
  },
  {
   "cell_type": "code",
   "execution_count": 86,
   "metadata": {},
   "outputs": [
    {
     "data": {
      "text/plain": [
       "{'Andre_M': 0,\n",
       " 'agnes': 1,\n",
       " 'djermo': 2,\n",
       " 'theempress': 3,\n",
       " 'Seldom': 4,\n",
       " 'mandysu': 5,\n",
       " 'Altersack56': 6,\n",
       " 'Drachenblut': 7,\n",
       " 'Myrmidone': 8}"
      ]
     },
     "execution_count": 86,
     "metadata": {},
     "output_type": "execute_result"
    }
   ],
   "source": [
    "userids = {}\n",
    "for threadid, thread in dicthreads.items():\n",
    "    processed_users = []\n",
    "    userids[threadid] = {}\n",
    "    userid = -1\n",
    "    for post in thread:\n",
    "        username = post[\"username\"]\n",
    "        ct = post[\"content-title\"]\n",
    "        if username not in processed_users:\n",
    "            userid += 1\n",
    "            userids[threadid][username] = userid\n",
    "            processed_users.append(username)\n",
    "userids[bla[0][\"thread-id\"]]"
   ]
  },
  {
   "cell_type": "code",
   "execution_count": 91,
   "metadata": {},
   "outputs": [
    {
     "data": {
      "text/plain": [
       "[1,\n",
       " 14,\n",
       " 3,\n",
       " 4,\n",
       " 14,\n",
       " 1,\n",
       " 4,\n",
       " 10,\n",
       " 3,\n",
       " 5,\n",
       " 1,\n",
       " 3,\n",
       " 23,\n",
       " 27,\n",
       " 3,\n",
       " 2,\n",
       " 9,\n",
       " 7,\n",
       " 2,\n",
       " 3,\n",
       " 7,\n",
       " 4,\n",
       " 2,\n",
       " 3,\n",
       " 18,\n",
       " 24,\n",
       " 3,\n",
       " 6,\n",
       " 14,\n",
       " 3]"
      ]
     },
     "execution_count": 91,
     "metadata": {},
     "output_type": "execute_result"
    }
   ],
   "source": [
    "[len(value) for value in dicthreads.values()][:30]"
   ]
  },
  {
   "cell_type": "code",
   "execution_count": 51,
   "metadata": {},
   "outputs": [],
   "source": [
    "dicbla = {}\n",
    "dicblo = {}\n",
    "for posts in dicthreads.values():\n",
    "    for post in posts:\n",
    "        u = post[\"username\"]\n",
    "        i = post[\"data-user-id\"]\n",
    "        if u not in dicbla.keys():\n",
    "            dicbla[u] = []\n",
    "        if i not in dicbla[u]:\n",
    "            dicbla[u].append(i)\n",
    "        if i not in dicblo.keys():\n",
    "            dicblo[i] = []\n",
    "        if u not in dicblo[i]:\n",
    "            dicblo[i].append(u)\n",
    "        if len(dicbla[u]) > 1:\n",
    "            print(dicbla[u], dicblo[i])"
   ]
  },
  {
   "cell_type": "code",
   "execution_count": 11,
   "metadata": {},
   "outputs": [
    {
     "data": {
      "text/plain": [
       "'sersrestr\\n\\n'"
      ]
     },
     "execution_count": 11,
     "metadata": {},
     "output_type": "execute_result"
    }
   ],
   "source": [
    "blo = \"sersrestr\\n\\n\"\n",
    "blo += \"\\n\"*(2-blo.count(\"\\n\"))\n",
    "blo"
   ]
  },
  {
   "cell_type": "code",
   "execution_count": 8,
   "metadata": {},
   "outputs": [
    {
     "data": {
      "text/plain": [
       "({'Blo': 1, 'Bli': 2}, {'Blo': 1, 'Bli': 2})"
      ]
     },
     "execution_count": 8,
     "metadata": {},
     "output_type": "execute_result"
    }
   ],
   "source": [
    "bla = dict(Blo=1, Bli=2)\n",
    "#bla = dict(\"Blo\"=1,\"Bli\"=2) -> Fehler\n",
    "#bli = {Blo=1, Bli=2} -> Fehler\n",
    "bli = {\"Blo\":1, \"Bli\":2}\n",
    "bla, bli"
   ]
  },
  {
   "cell_type": "code",
   "execution_count": 17,
   "metadata": {
    "scrolled": true
   },
   "outputs": [
    {
     "data": {
      "text/plain": [
       "[(1, 0),\n",
       " (2, 0),\n",
       " (2, 1),\n",
       " (3, 0),\n",
       " (3, 1),\n",
       " (3, 2),\n",
       " (4, 0),\n",
       " (4, 1),\n",
       " (4, 2),\n",
       " (4, 3),\n",
       " (5, 0),\n",
       " (5, 1),\n",
       " (5, 2),\n",
       " (5, 3),\n",
       " (5, 4),\n",
       " (6, 0),\n",
       " (6, 1),\n",
       " (6, 2),\n",
       " (6, 3),\n",
       " (6, 4),\n",
       " (6, 5),\n",
       " (7, 0),\n",
       " (7, 1),\n",
       " (7, 2),\n",
       " (7, 3),\n",
       " (7, 4),\n",
       " (7, 5),\n",
       " (7, 6),\n",
       " (8, 0),\n",
       " (8, 1),\n",
       " (8, 2),\n",
       " (8, 3),\n",
       " (8, 4),\n",
       " (8, 5),\n",
       " (8, 6),\n",
       " (8, 7),\n",
       " (9, 0),\n",
       " (9, 1),\n",
       " (9, 2),\n",
       " (9, 3),\n",
       " (9, 4),\n",
       " (9, 5),\n",
       " (9, 6),\n",
       " (9, 7),\n",
       " (9, 8)]"
      ]
     },
     "execution_count": 17,
     "metadata": {},
     "output_type": "execute_result"
    }
   ],
   "source": [
    "nodes = range(10)\n",
    "def all_pairs(nodes):\n",
    "    for i, u in enumerate(nodes):\n",
    "        for j, v in enumerate(nodes):\n",
    "            if i>j:\n",
    "                yield u, v\n",
    "[x for x in all_pairs(nodes)]"
   ]
  },
  {
   "cell_type": "code",
   "execution_count": 15,
   "metadata": {},
   "outputs": [
    {
     "data": {
      "text/plain": [
       "range(0, 10)"
      ]
     },
     "execution_count": 15,
     "metadata": {},
     "output_type": "execute_result"
    }
   ],
   "source": [
    "nodes"
   ]
  },
  {
   "cell_type": "code",
   "execution_count": null,
   "metadata": {},
   "outputs": [],
   "source": []
  },
  {
   "cell_type": "code",
   "execution_count": null,
   "metadata": {},
   "outputs": [],
   "source": []
  }
 ],
 "metadata": {
  "kernelspec": {
   "display_name": "Python 3",
   "language": "python",
   "name": "python3"
  },
  "language_info": {
   "codemirror_mode": {
    "name": "ipython",
    "version": 3
   },
   "file_extension": ".py",
   "mimetype": "text/x-python",
   "name": "python",
   "nbconvert_exporter": "python",
   "pygments_lexer": "ipython3",
   "version": "3.7.4"
  },
  "toc": {
   "base_numbering": 1,
   "nav_menu": {},
   "number_sections": true,
   "sideBar": true,
   "skip_h1_title": false,
   "title_cell": "Table of Contents",
   "title_sidebar": "Contents",
   "toc_cell": false,
   "toc_position": {
    "height": "calc(100% - 180px)",
    "left": "10px",
    "top": "150px",
    "width": "273.2px"
   },
   "toc_section_display": true,
   "toc_window_display": true
  },
  "varInspector": {
   "cols": {
    "lenName": 16,
    "lenType": 16,
    "lenVar": 40
   },
   "kernels_config": {
    "python": {
     "delete_cmd_postfix": "",
     "delete_cmd_prefix": "del ",
     "library": "var_list.py",
     "varRefreshCmd": "print(var_dic_list())"
    },
    "r": {
     "delete_cmd_postfix": ") ",
     "delete_cmd_prefix": "rm(",
     "library": "var_list.r",
     "varRefreshCmd": "cat(var_dic_list()) "
    }
   },
   "position": {
    "height": "421.85px",
    "left": "996px",
    "right": "20px",
    "top": "120px",
    "width": "350px"
   },
   "types_to_exclude": [
    "module",
    "function",
    "builtin_function_or_method",
    "instance",
    "_Feature"
   ],
   "window_display": false
  }
 },
 "nbformat": 4,
 "nbformat_minor": 2
}
